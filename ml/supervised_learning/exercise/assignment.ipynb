{
 "cells": [
  {
   "cell_type": "markdown",
   "id": "c8fc4190-4803-4892-9461-07d771991f28",
   "metadata": {},
   "source": [
    "## Problem Statement\n",
    "\n",
    "You are a data scientist / AI engineer at a meteorological consulting firm. You have been provided with a dataset named **\"weather_data.csv\"**, which includes detailed records of various weather conditions. The dataset comprises the following columns:\n",
    "\n",
    "- **`hours_sunlight:`** The total number of hours of sunlight received in a day.\n",
    "- **`humidity_level:`** The humidity level as a percentage.\n",
    "- **`daily_temperature:`** The temperature recorded at the end of the day in degrees Celsius.\n",
    "\n",
    "Your task is to use this dataset to build a linear regression model to predict the daily temperature based on the hours of sunlight and humidity level."
   ]
  },
  {
   "cell_type": "markdown",
   "id": "7d8a45da-80f2-4b0a-87cd-2724496065db",
   "metadata": {},
   "source": [
    "**Import Necessary Libraries**"
   ]
  },
  {
   "cell_type": "code",
   "execution_count": 1,
   "id": "97bc79b3-efb0-47d6-afd1-83827de29749",
   "metadata": {},
   "outputs": [],
   "source": [
    "#import necessary libraries\n",
    "import pandas as pd\n",
    "from sklearn.linear_model import LinearRegression\n",
    "\n"
   ]
  },
  {
   "cell_type": "markdown",
   "id": "968a2f7e-5ba7-4fea-8d03-31826f9e2734",
   "metadata": {},
   "source": [
    "### Task 1: Train a Linear Regression with Single Variable\n",
    "\n",
    "1. Import the data from the \"weather_data.csv\" file and store it in a variable df.\n",
    "2. Display the number of rows and columns in the dataset.\n",
    "3. Display the first few rows of the dataset to get an overview.\n",
    "4. Create a Linear Regression model and fit it using only the `hours_sunlight` variable to predict `daily_temperature`.\n",
    "5. Print the model's coefficient and intercept.\n",
    "6. Predict the daily temperature with the following hours of sunlight:\n",
    "   - 5 hours\n",
    "   - 8 hours\n",
    "   - 12 hours"
   ]
  },
  {
   "cell_type": "code",
   "execution_count": 12,
   "id": "c4a0cec3-7f4e-42ad-9553-ed92bd34b1ea",
   "metadata": {},
   "outputs": [
    {
     "name": "stdout",
     "output_type": "stream",
     "text": [
      "rows:  49\n",
      "columns:  3\n"
     ]
    },
    {
     "data": {
      "text/html": [
       "<div>\n",
       "<style scoped>\n",
       "    .dataframe tbody tr th:only-of-type {\n",
       "        vertical-align: middle;\n",
       "    }\n",
       "\n",
       "    .dataframe tbody tr th {\n",
       "        vertical-align: top;\n",
       "    }\n",
       "\n",
       "    .dataframe thead th {\n",
       "        text-align: right;\n",
       "    }\n",
       "</style>\n",
       "<table border=\"1\" class=\"dataframe\">\n",
       "  <thead>\n",
       "    <tr style=\"text-align: right;\">\n",
       "      <th></th>\n",
       "      <th>hours_sunlight</th>\n",
       "      <th>humidity_level</th>\n",
       "      <th>daily_temperature</th>\n",
       "    </tr>\n",
       "  </thead>\n",
       "  <tbody>\n",
       "    <tr>\n",
       "      <th>0</th>\n",
       "      <td>10.5</td>\n",
       "      <td>65</td>\n",
       "      <td>22.3</td>\n",
       "    </tr>\n",
       "    <tr>\n",
       "      <th>1</th>\n",
       "      <td>9.2</td>\n",
       "      <td>70</td>\n",
       "      <td>21.0</td>\n",
       "    </tr>\n",
       "    <tr>\n",
       "      <th>2</th>\n",
       "      <td>7.8</td>\n",
       "      <td>80</td>\n",
       "      <td>18.5</td>\n",
       "    </tr>\n",
       "    <tr>\n",
       "      <th>3</th>\n",
       "      <td>6.4</td>\n",
       "      <td>90</td>\n",
       "      <td>17.2</td>\n",
       "    </tr>\n",
       "    <tr>\n",
       "      <th>4</th>\n",
       "      <td>8.1</td>\n",
       "      <td>75</td>\n",
       "      <td>19.4</td>\n",
       "    </tr>\n",
       "  </tbody>\n",
       "</table>\n",
       "</div>"
      ],
      "text/plain": [
       "   hours_sunlight  humidity_level  daily_temperature\n",
       "0            10.5              65               22.3\n",
       "1             9.2              70               21.0\n",
       "2             7.8              80               18.5\n",
       "3             6.4              90               17.2\n",
       "4             8.1              75               19.4"
      ]
     },
     "execution_count": 12,
     "metadata": {},
     "output_type": "execute_result"
    }
   ],
   "source": [
    "# Step 1: Import the data from the \"weather_data.csv\" file and store it in a variable 'df'\n",
    "df = pd.read_csv(\"weather_data.csv\")\n",
    "\n",
    "# Step 2: Display the number of rows and columns in the dataset\n",
    "print(\"rows: \", df.shape[0])\n",
    "print(\"columns: \", df.shape[1])\n",
    "\n",
    "# Step 3: Display the first few rows of the dataset to get an overview\n",
    "df.head()\n"
   ]
  },
  {
   "cell_type": "code",
   "execution_count": 2,
   "id": "5381d3e9-b594-49f8-8c7f-6158f08f1185",
   "metadata": {},
   "outputs": [],
   "source": [
    "# Step 4: Create a Linear Regression model and fit it using only the 'hours_sunlight' variable to predict 'daily_temperature'\n"
   ]
  },
  {
   "cell_type": "code",
   "execution_count": 3,
   "id": "72bf1683-1b72-43eb-8aad-049586aec0d7",
   "metadata": {},
   "outputs": [],
   "source": [
    "# Step 5: Print the model's coefficient and intercept\n"
   ]
  },
  {
   "cell_type": "code",
   "execution_count": 4,
   "id": "01ebd623-28ec-4ca6-9eaa-39c2ad82f996",
   "metadata": {},
   "outputs": [],
   "source": [
    "# Step 6: Predict the daily temperature for the following hours of sunlight: 5, 8, and 12\n",
    "\n",
    "\n",
    "# Print the predicted temperatures\n"
   ]
  },
  {
   "cell_type": "markdown",
   "id": "e15d8454-334a-408f-9fc5-5d18960d1010",
   "metadata": {},
   "source": [
    "### Task 2: Train a Linear Regression with Multiple Variable\n",
    "\n",
    "- Create a Linear Regression model and fit it using both `hours_sunlight` and `humidity_level` variables to predict `daily_temperature`.\n",
    "- Print the model's coefficients and intercept.\n",
    "- Predict the daily temperature for the following conditions:\n",
    "    - Hours of sunlight: 5 hours, Humidity level: 60%\n",
    "    - Hours of sunlight: 8 hours, Humidity level: 75%\n",
    "    - Hours of sunlight: 12 hours, Humidity level: 50%"
   ]
  },
  {
   "cell_type": "code",
   "execution_count": 6,
   "id": "90716dd7-ef2f-49e4-a311-d4ddad670b75",
   "metadata": {},
   "outputs": [],
   "source": [
    "#Step1: Create a Linear Regression model and fit it using both 'hours_sunlight' and 'humidity_level' variables to predict 'daily_temperature'\n"
   ]
  },
  {
   "cell_type": "code",
   "execution_count": null,
   "id": "ad5396c9-12d8-43e4-ba0f-ecd4127699e0",
   "metadata": {},
   "outputs": [],
   "source": [
    "#Step2: Print the model's coefficients and intercept\n"
   ]
  },
  {
   "cell_type": "code",
   "execution_count": 7,
   "id": "8a0955d9-a58c-4e6e-bedd-acb546307242",
   "metadata": {},
   "outputs": [],
   "source": [
    "# Step3: Predict the daily temperature for the following conditions:\n",
    "# Hours of sunlight: 5 hours, Humidity level: 60%\n",
    "# Hours of sunlight: 8 hours, Humidity level: 75%\n",
    "# Hours of sunlight: 12 hours, Humidity level: 50%\n",
    "\n"
   ]
  }
 ],
 "metadata": {
  "kernelspec": {
   "display_name": "Python 3",
   "language": "python",
   "name": "python3"
  },
  "language_info": {
   "codemirror_mode": {
    "name": "ipython",
    "version": 3
   },
   "file_extension": ".py",
   "mimetype": "text/x-python",
   "name": "python",
   "nbconvert_exporter": "python",
   "pygments_lexer": "ipython3",
   "version": "3.12.5"
  }
 },
 "nbformat": 4,
 "nbformat_minor": 5
}

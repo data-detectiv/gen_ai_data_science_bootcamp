{
 "cells": [
  {
   "cell_type": "code",
   "execution_count": 2,
   "id": "110b904b",
   "metadata": {},
   "outputs": [
    {
     "data": {
      "text/plain": [
       "5700"
      ]
     },
     "execution_count": 2,
     "metadata": {},
     "output_type": "execute_result"
    }
   ],
   "source": [
    "expenses = [1200, 1300, 1500, 1700]\n",
    "total_expenses = expenses[0] + expenses[1] + expenses[2] + expenses[3]\n",
    "total_expenses"
   ]
  },
  {
   "cell_type": "code",
   "execution_count": 5,
   "id": "17df3e41",
   "metadata": {},
   "outputs": [
    {
     "name": "stdout",
     "output_type": "stream",
     "text": [
      "5700\n"
     ]
    }
   ],
   "source": [
    "total_expenses = 0\n",
    "for expense in expenses:\n",
    "    total_expenses += expense\n",
    "print(total_expenses)"
   ]
  },
  {
   "cell_type": "code",
   "execution_count": 7,
   "id": "0f8d2c84",
   "metadata": {},
   "outputs": [
    {
     "name": "stdout",
     "output_type": "stream",
     "text": [
      "month 1, expense: 1200\n",
      "month 2, expense: 1300\n",
      "month 3, expense: 1500\n",
      "month 4, expense: 1700\n",
      "total 5700\n"
     ]
    }
   ],
   "source": [
    "total_expenses = 0\n",
    "for i in range(len(expenses)):\n",
    "    print(f\"month {i + 1}, expense: {expenses[i]}\")\n",
    "    total_expenses += expenses[i]\n",
    "print(\"total\", total_expenses)"
   ]
  },
  {
   "cell_type": "code",
   "execution_count": 11,
   "id": "4ad8c55f",
   "metadata": {},
   "outputs": [
    {
     "name": "stdout",
     "output_type": "stream",
     "text": [
      "Sales amount 42 is greater than threshold in jan\n",
      "Sales amount 38 is greater than threshold in feb\n",
      "Sales amount 33 is less than threshold in mar\n"
     ]
    }
   ],
   "source": [
    "monthly_sales = [42, 38, 33, 38, 40, 45]\n",
    "months = [\"jan\", \"feb\", \"mar\", \"apr\", \"may\", \"jun\"]\n",
    "threshold = 35\n",
    "\n",
    "for sales_amount, month in zip(monthly_sales, months):\n",
    "    if sales_amount < threshold:\n",
    "        print(f\"Sales amount {sales_amount} is less than threshold in {month}\")\n",
    "        break\n",
    "    else:\n",
    "        print(f\"Sales amount {sales_amount} is greater than threshold in {month}\")"
   ]
  },
  {
   "cell_type": "code",
   "execution_count": 14,
   "id": "259b7f5b",
   "metadata": {},
   "outputs": [
    {
     "name": "stdout",
     "output_type": "stream",
     "text": [
      "1\n",
      "3\n",
      "5\n",
      "7\n",
      "9\n"
     ]
    }
   ],
   "source": [
    "for i in range(1, 11):\n",
    "    if i % 2 == 0:\n",
    "        continue\n",
    "    print(i)"
   ]
  },
  {
   "cell_type": "code",
   "execution_count": 15,
   "id": "58010614",
   "metadata": {},
   "outputs": [
    {
     "name": "stdout",
     "output_type": "stream",
     "text": [
      "0\n",
      "1\n",
      "2\n",
      "3\n",
      "4\n",
      "5\n",
      "6\n",
      "7\n",
      "8\n",
      "9\n"
     ]
    }
   ],
   "source": [
    "n = 0\n",
    "\n",
    "while n < 10:\n",
    "    print(n)\n",
    "    n += 1"
   ]
  },
  {
   "cell_type": "code",
   "execution_count": 17,
   "id": "ec280c16",
   "metadata": {},
   "outputs": [
    {
     "name": "stdout",
     "output_type": "stream",
     "text": [
      "iphone usa: 20\n",
      "iphone china: 23\n",
      "iphone india: 45\n",
      "ipad usa: 18\n",
      "ipad china: 17\n",
      "ipad india: 12\n",
      "macbook usa: 12\n",
      "macbook china: 9\n",
      "macbook india: 5\n"
     ]
    }
   ],
   "source": [
    "products = [\"iphone\", \"ipad\", \"macbook\"]\n",
    "regions = [\"usa\", \"china\", \"india\"]\n",
    "revenue = [20, 23, 45, 18, 17, 12, 12, 9, 5]\n",
    "\n",
    "i = 0\n",
    "for product in products:\n",
    "    for region in regions:\n",
    "        rev = revenue[i]\n",
    "        i += 1\n",
    "        print(f\"{product} {region}: {rev}\")"
   ]
  },
  {
   "cell_type": "code",
   "execution_count": 19,
   "id": "ee659fa5",
   "metadata": {},
   "outputs": [
    {
     "data": {
      "text/plain": [
       "[10, 50, 300, 1200]"
      ]
     },
     "execution_count": 19,
     "metadata": {},
     "output_type": "execute_result"
    }
   ],
   "source": [
    "prices = [300, 50, 1200, 10]\n",
    "sorted(prices)\n",
    "# print(prices[2])"
   ]
  },
  {
   "cell_type": "code",
   "execution_count": null,
   "id": "a6abf233",
   "metadata": {},
   "outputs": [],
   "source": []
  }
 ],
 "metadata": {
  "kernelspec": {
   "display_name": "Python 3",
   "language": "python",
   "name": "python3"
  },
  "language_info": {
   "codemirror_mode": {
    "name": "ipython",
    "version": 3
   },
   "file_extension": ".py",
   "mimetype": "text/x-python",
   "name": "python",
   "nbconvert_exporter": "python",
   "pygments_lexer": "ipython3",
   "version": "3.10.10"
  }
 },
 "nbformat": 4,
 "nbformat_minor": 5
}

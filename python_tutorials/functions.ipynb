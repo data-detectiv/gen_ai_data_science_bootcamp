{
 "cells": [
  {
   "cell_type": "code",
   "execution_count": 2,
   "id": "b749a918",
   "metadata": {},
   "outputs": [],
   "source": [
    "expenses_sergey = [30, 45, 70, 90]\n",
    "expenses_sundar = [40, 23, 10, 85]"
   ]
  },
  {
   "cell_type": "code",
   "execution_count": 7,
   "id": "66f77c60",
   "metadata": {},
   "outputs": [],
   "source": [
    "def find_total(expenses):\n",
    "    total = 0\n",
    "    for expense in expenses:\n",
    "        total += expense\n",
    "    return total\n",
    "\n"
   ]
  },
  {
   "cell_type": "code",
   "execution_count": 8,
   "id": "80af7174",
   "metadata": {},
   "outputs": [
    {
     "name": "stdout",
     "output_type": "stream",
     "text": [
      "235\n",
      "158\n"
     ]
    }
   ],
   "source": [
    "total_expense_sergey = find_total(expenses_sergey)\n",
    "total_expense_sundar = find_total(expenses_sundar)\n",
    "\n",
    "print(total_expense_sergey)\n",
    "print(total_expense_sundar)"
   ]
  },
  {
   "cell_type": "code",
   "execution_count": null,
   "id": "4fd24072",
   "metadata": {},
   "outputs": [],
   "source": []
  }
 ],
 "metadata": {
  "kernelspec": {
   "display_name": "Python 3",
   "language": "python",
   "name": "python3"
  },
  "language_info": {
   "codemirror_mode": {
    "name": "ipython",
    "version": 3
   },
   "file_extension": ".py",
   "mimetype": "text/x-python",
   "name": "python",
   "nbconvert_exporter": "python",
   "pygments_lexer": "ipython3",
   "version": "3.10.10"
  }
 },
 "nbformat": 4,
 "nbformat_minor": 5
}

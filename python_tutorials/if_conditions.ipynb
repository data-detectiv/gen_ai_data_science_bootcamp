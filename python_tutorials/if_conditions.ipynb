{
 "cells": [
  {
   "cell_type": "code",
   "execution_count": 4,
   "id": "f0d25874",
   "metadata": {},
   "outputs": [
    {
     "name": "stdout",
     "output_type": "stream",
     "text": [
      "10\n"
     ]
    }
   ],
   "source": [
    "n = int(input(\"Enter a number: \"))\n",
    "print(n)"
   ]
  },
  {
   "cell_type": "code",
   "execution_count": 5,
   "id": "57bc6070",
   "metadata": {},
   "outputs": [
    {
     "name": "stdout",
     "output_type": "stream",
     "text": [
      "10 is an even number\n"
     ]
    }
   ],
   "source": [
    "if n % 2 == 0:\n",
    "    print(f\"{n} is an even number\")\n",
    "else:\n",
    "    print(f\"{n} is an odd number\")"
   ]
  },
  {
   "cell_type": "code",
   "execution_count": 6,
   "id": "e0b73f0a",
   "metadata": {},
   "outputs": [
    {
     "name": "stdout",
     "output_type": "stream",
     "text": [
      "Number is even\n"
     ]
    }
   ],
   "source": [
    "message = \"Number is even\" if n % 2 == 0 else \"Number is odd\"\n",
    "print(message)"
   ]
  },
  {
   "cell_type": "code",
   "execution_count": 8,
   "id": "7f78c349",
   "metadata": {},
   "outputs": [
    {
     "name": "stdout",
     "output_type": "stream",
     "text": [
      "Yay\n"
     ]
    }
   ],
   "source": [
    "n = 8\n",
    "if n > 10 or n % 2 == 0:\n",
    "    print(\"Yay\")\n",
    "else:\n",
    "    print(\"No\")"
   ]
  },
  {
   "cell_type": "code",
   "execution_count": 9,
   "id": "e342425c",
   "metadata": {},
   "outputs": [
    {
     "name": "stdout",
     "output_type": "stream",
     "text": [
      "daal is indian\n"
     ]
    }
   ],
   "source": [
    "indian = [\"samosa\", \"daal\", \"naan\"]\n",
    "chinese = [\"egg role\", \"pot sticker\", \"fried rice\"]\n",
    "italian = [\"pizza\", \"pasta\", \"risotto\"]\n",
    "\n",
    "dish = input(\"Enter a dish: \")\n",
    "\n",
    "if dish in indian:\n",
    "    print(f\"{dish} is indian\")\n",
    "elif dish in chinese:\n",
    "    print(f\"{dish} is chinese\")\n",
    "elif dish in italian:\n",
    "    print(f\"{dish} is italian\")\n",
    "else:\n",
    "    print(\"i don't know which cuisine is this\")"
   ]
  },
  {
   "cell_type": "code",
   "execution_count": null,
   "id": "21e7173f",
   "metadata": {},
   "outputs": [],
   "source": []
  }
 ],
 "metadata": {
  "kernelspec": {
   "display_name": "Python 3",
   "language": "python",
   "name": "python3"
  },
  "language_info": {
   "codemirror_mode": {
    "name": "ipython",
    "version": 3
   },
   "file_extension": ".py",
   "mimetype": "text/x-python",
   "name": "python",
   "nbconvert_exporter": "python",
   "pygments_lexer": "ipython3",
   "version": "3.10.10"
  }
 },
 "nbformat": 4,
 "nbformat_minor": 5
}
